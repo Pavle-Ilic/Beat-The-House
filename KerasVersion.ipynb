{
 "cells": [
  {
   "cell_type": "markdown",
   "metadata": {},
   "source": [
    "**Libraries**"
   ]
  },
  {
   "cell_type": "code",
   "execution_count": 1,
   "metadata": {},
   "outputs": [],
   "source": [
    "import gym\n",
    "import numpy as np\n",
    "import random\n",
    "import matplotlib.pyplot as plt\n",
    "from collections import deque\n",
    "import keras\n",
    "from mpl_toolkits.mplot3d import Axes3D\n",
    "import pandas as pd\n",
    "import plotly.express as px\n",
    "import plotly.graph_objects as go\n",
    "from collections import defaultdict"
   ]
  },
  {
   "cell_type": "markdown",
   "metadata": {},
   "source": [
    "**DQN Object**"
   ]
  },
  {
   "cell_type": "code",
   "execution_count": 25,
   "metadata": {},
   "outputs": [],
   "source": [
    "class DQN():\n",
    "    def __init__(self, observation_size, action_size, discount_factor, n_episodes, start_epsilon, end_epsilon, epsilon_decay, batch_size):\n",
    "        #Observation and action space size\n",
    "        self.observation_size = observation_size\n",
    "        self.action_size = action_size\n",
    "\n",
    "        #Q Learning members\n",
    "        self.discount_factor = discount_factor\n",
    "        self.n_episodes = n_episodes\n",
    "        self.epsilon = start_epsilon\n",
    "        self.end_epsilon = end_epsilon\n",
    "        self.epsilon_decay = epsilon_decay\n",
    "        \n",
    "        #replay memory members\n",
    "        self.memory = deque(maxlen = 1000)\n",
    "        self.batch_size = batch_size\n",
    "        self.update_num = 50\n",
    "        self.update_steps = 0\n",
    "\n",
    "        #neural network members\n",
    "        self.q_network = self.create_model()\n",
    "        self.target_network = self.create_model()\n",
    "\n",
    "    #will be a 4 layer NN, using MSE maybe Hubner, ReLu activations in each layer and Linear output to match nature of DQN\n",
    "    def create_model(self):\n",
    "        #input layer\n",
    "        inputs = keras.Input(shape = (self.observation_size))\n",
    "        #hidden layers using ReLu activation might mess with number of neurons\n",
    "        layer_1 = keras.layers.Dense(64, activation = \"relu\")(inputs)\n",
    "        layer_2 = keras.layers.Dense(64, activation = \"relu\")(layer_1)\n",
    "        layer_3 = keras.layers.Dense(64, activation = \"relu\")(layer_2)\n",
    "        #output layer, 2 neurons for corresponding actions, linear to preserve Q value\n",
    "        outputs = keras.layers.Dense(action_size, activation = \"linear\")(layer_3)\n",
    "        #building model\n",
    "        model = keras.Model(inputs = inputs, outputs = outputs)\n",
    "        model.compile(optimizer = \"Adam\", loss = \"mse\")\n",
    "        return model\n",
    "\n",
    "    #add to our experience replay\n",
    "    def add_memory(self, curr_state, action, next_state, reward, truncated, terminated):\n",
    "        self.memory.append([curr_state, action, next_state, reward, truncated, terminated])\n",
    "    \n",
    "    #epsilon greedy approach for an action\n",
    "    def get_action(self, curr_state):\n",
    "        if np.random.random() < self.epsilon:\n",
    "            #random action\n",
    "            print(\"Took random action\")\n",
    "            return env.action_space.sample()\n",
    "        else:\n",
    "            print(\"Took action from Q Network\")\n",
    "            #getting action from our q network with heighest Q value\n",
    "            predicted_action = self.q_network.predict(curr_state, verbose = 0)\n",
    "            #getting max value from our 1x2 np array\n",
    "            return np.argmax(predicted_action[0])\n",
    "\n",
    "    def choose_action(self, curr_state):\n",
    "        predicted_action = self.q_network.predict(curr_state, verbose = 0)\n",
    "        #getting max value from our 1x2 np array\n",
    "        return np.argmax(predicted_action[0])\n",
    "    \n",
    "    #function to decay epsilon\n",
    "    def decay_epsilon(self):\n",
    "        self.epsilon = max(self.end_epsilon, self.epsilon - self.epsilon_decay)\n",
    "\n",
    "    #function to train DQN\n",
    "    def train(self):\n",
    "        #don't use neural network if we don't have enough memory in our replay buffer\n",
    "        #want to build up experience to train from\n",
    "        if len(self.memory) < self.batch_size:\n",
    "            print(\"Memory Size less than batch size, returning\")\n",
    "            return\n",
    "\n",
    "        #copying weights from q network to target network\n",
    "        if self.update_steps % self.update_num == 0:\n",
    "            print(\"Copying weigths over\")\n",
    "            self.update_target()\n",
    "\n",
    "        #getting values of next states from target networks, with Belleman Equation, \n",
    "        # then training Q Network with these values\n",
    "        mini_batch = random.sample(self.memory, batch_size)\n",
    "        for curr_state, action, next_state, reward, truncated, terminated in mini_batch:\n",
    "            target = self.q_network.predict(curr_state, verbose = 0)\n",
    "            if not truncated or terminated:\n",
    "                target_q = self.target_network.predict(next_state, verbose = 0)[0]\n",
    "                target[0][action] = reward + discount_factor * max(target_q)\n",
    "            else:\n",
    "                target[0][action] = reward\n",
    "        \n",
    "        print(\"Training Neural Network on Batch\")\n",
    "        #training model and decaying epsilon\n",
    "        self.q_network.fit(curr_state, target, verbose = 0)\n",
    "        self.decay_epsilon()\n",
    "        self.update_steps += 1\n",
    "\n",
    "    #function to update our target network with the weights of the q network\n",
    "    def update_target(self):\n",
    "        self.target_network.set_weights(self.q_network.get_weights())\n",
    "\n",
    "    #methods to save model\n",
    "    def save_model(self, file_name):\n",
    "        self.q_network.save(file_name)\n",
    "    \n",
    "    #method to load model\n",
    "    def load_model(self, file_name):\n",
    "        self.q_network = keras.saving.load_model(file_name)\n",
    "        self.target_network = keras.saving.load_model(file_name)\n"
   ]
  },
  {
   "cell_type": "markdown",
   "metadata": {},
   "source": [
    "**HyperParamaters**"
   ]
  },
  {
   "cell_type": "code",
   "execution_count": 44,
   "metadata": {},
   "outputs": [],
   "source": [
    "#initializing enviorment\n",
    "#want to change Natural to True and to rerun model and save that new model\n",
    "env = gym.make('Blackjack-v1', natural=True, sab=False)\n",
    "env.reset()\n",
    "\n",
    "#hyperparametrs and other members needed for our DQN Object\n",
    "observation_size = len(env.observation_space)\n",
    "action_size = env.action_space.n \n",
    "#these values can be tweaked to try and imporve performance\n",
    "discount_factor = 0.95\n",
    "n_episodes = 600 \n",
    "start_epsilon = 1\n",
    "end_epsilon =  0.01\n",
    "epsilon_decay = 1e-3 \n",
    "batch_size = 64\n",
    "test_episodes = 8000"
   ]
  },
  {
   "cell_type": "markdown",
   "metadata": {},
   "source": [
    "Intializing DQN Agent"
   ]
  },
  {
   "cell_type": "code",
   "execution_count": 34,
   "metadata": {},
   "outputs": [],
   "source": [
    "agent = DQN(observation_size, action_size, discount_factor, n_episodes, start_epsilon, end_epsilon, epsilon_decay, batch_size)\n",
    "#agent.load(\"file_name\")"
   ]
  },
  {
   "cell_type": "markdown",
   "metadata": {},
   "source": [
    "Summary of Q Network"
   ]
  },
  {
   "cell_type": "code",
   "execution_count": 35,
   "metadata": {},
   "outputs": [],
   "source": [
    "#agent.q_network.summary()"
   ]
  },
  {
   "cell_type": "markdown",
   "metadata": {},
   "source": [
    "Summary of Target Network"
   ]
  },
  {
   "cell_type": "code",
   "execution_count": 36,
   "metadata": {},
   "outputs": [],
   "source": [
    "#agent.target_network.summary()"
   ]
  },
  {
   "cell_type": "markdown",
   "metadata": {},
   "source": [
    "**Main Training Loop**"
   ]
  },
  {
   "cell_type": "code",
   "execution_count": null,
   "metadata": {},
   "outputs": [],
   "source": [
    "#dictonary to store how many times agent wins vs dealer \n",
    "# in an episode to help visualize training\n",
    "training_ratio = defaultdict(int)\n",
    "\n",
    "for episode in range(n_episodes):\n",
    "    curr_state,_ = env.reset()\n",
    "    truncated = False\n",
    "    terminated = False\n",
    "    total_reward = 0\n",
    "\n",
    "    #temp array to store wins and loss\n",
    "    temp_ratio = [0,0]\n",
    "\n",
    "    while not terminated or truncated:\n",
    "        #reshape to a 1 by however many column's needed np array\n",
    "        curr_state = np.array(curr_state).reshape(1,-1)\n",
    "        action = agent.get_action(curr_state)\n",
    "\n",
    "        #reshape next state to same shape as current state but in a different manor\n",
    "        next_state, reward, terminated, truncated,_ = env.step(action) \n",
    "        next_state = np.reshape(next_state, [1, agent.observation_size])\n",
    "\n",
    "        #add into our replay memory\n",
    "        agent.add_memory(curr_state, action, next_state, reward, truncated, terminated)\n",
    "\n",
    "        #train agent\n",
    "        agent.train()\n",
    "\n",
    "        curr_state = next_state\n",
    "        total_reward += reward\n",
    "\n",
    "        #getting amount of player vs dealer wins \n",
    "        if reward == 1:\n",
    "            temp_ratio[0] +=1\n",
    "        elif reward == -1:\n",
    "            temp_ratio[1] += 1\n",
    "\n",
    "    #appending totals for current episode\n",
    "    training_ratio[episode] = temp_ratio\n",
    "    \n",
    "    print(f\"Epsiode: {episode}, epsilon: {agent.epsilon}, total reward: {total_reward}\")"
   ]
  },
  {
   "cell_type": "markdown",
   "metadata": {},
   "source": [
    "Saving Model"
   ]
  },
  {
   "cell_type": "code",
   "execution_count": null,
   "metadata": {},
   "outputs": [],
   "source": [
    "agent.save_model(\"Model_600_Episodes\")"
   ]
  },
  {
   "cell_type": "markdown",
   "metadata": {},
   "source": [
    "**Plotting Training Wins vs Losses**"
   ]
  },
  {
   "cell_type": "code",
   "execution_count": null,
   "metadata": {},
   "outputs": [],
   "source": [
    "#unpacking our dictionary to plot\n",
    "episode_values, values = zip(*training_ratio.items())\n",
    "agent_wins, dealer_wins = zip(*values)\n",
    "\n",
    "plt.figure(figsize=(25, 8))\n",
    "plt.plot(episode_values, agent_wins, label =\"Agent\")\n",
    "#plt.plot(episode_values, dealer_wins, label ='dealer_wins')\n",
    "\n",
    "\n",
    "plt.xlabel(\"Episode\")\n",
    "plt.ylabel(\"Game Results (1 win, 0 loss)\")\n",
    "plt.legend()\n",
    "#plt.title('Winner over time')\n",
    "plt.show()\n"
   ]
  },
  {
   "cell_type": "markdown",
   "metadata": {},
   "source": [
    "Dataframe for Plotting"
   ]
  },
  {
   "cell_type": "code",
   "execution_count": 61,
   "metadata": {},
   "outputs": [],
   "source": [
    "df = pd.DataFrame(columns=['Agent Sum', 'Dealer Card', 'Agent Action', 'Agent Reward'])"
   ]
  },
  {
   "cell_type": "markdown",
   "metadata": {},
   "source": [
    "Testing and Collecting Data"
   ]
  },
  {
   "cell_type": "code",
   "execution_count": 62,
   "metadata": {},
   "outputs": [],
   "source": [
    "agent = DQN(observation_size, action_size, discount_factor, n_episodes, start_epsilon, end_epsilon, epsilon_decay, batch_size)\n",
    "agent.load_model(\"Model_500_Episodes\")"
   ]
  },
  {
   "cell_type": "code",
   "execution_count": null,
   "metadata": {},
   "outputs": [],
   "source": [
    "for episode in range(test_episodes):\n",
    "    curr_state, _ = env.reset()\n",
    "    truncated = False\n",
    "    terminated = False\n",
    "\n",
    "    while not terminated or truncated:\n",
    "        #reshape to a 1 by however many column's needed np array\n",
    "        curr_state = np.array(curr_state).reshape(1,-1)\n",
    "        action = agent.choose_action(curr_state)\n",
    "\n",
    "        #reshape next state to same shape as current state but in a different manor\n",
    "        next_state, reward, terminated, truncated,_ = env.step(action) \n",
    "        next_state = np.reshape(next_state, [1, agent.observation_size])\n",
    "\n",
    "        #adding to our dataframe for plotting\n",
    "        new_row = {'Agent Sum': curr_state[0][0], 'Dealer Card': curr_state[0][1], 'Agent Action': action, 'Agent Reward': reward}\n",
    "        df = pd.concat([df, pd.DataFrame([new_row])], ignore_index=True)\n",
    "\n",
    "        curr_state = next_state\n",
    "        \n",
    "    print(f\"Epsiode: {episode}\")\n",
    "    "
   ]
  },
  {
   "cell_type": "markdown",
   "metadata": {},
   "source": [
    "**Testing Results**"
   ]
  },
  {
   "cell_type": "code",
   "execution_count": 64,
   "metadata": {},
   "outputs": [
    {
     "data": {
      "text/html": [
       "<div>\n",
       "<style scoped>\n",
       "    .dataframe tbody tr th:only-of-type {\n",
       "        vertical-align: middle;\n",
       "    }\n",
       "\n",
       "    .dataframe tbody tr th {\n",
       "        vertical-align: top;\n",
       "    }\n",
       "\n",
       "    .dataframe thead th {\n",
       "        text-align: right;\n",
       "    }\n",
       "</style>\n",
       "<table border=\"1\" class=\"dataframe\">\n",
       "  <thead>\n",
       "    <tr style=\"text-align: right;\">\n",
       "      <th></th>\n",
       "      <th>Agent Sum</th>\n",
       "      <th>Dealer Card</th>\n",
       "      <th>Agent Action</th>\n",
       "      <th>Agent Reward</th>\n",
       "      <th>Action Label</th>\n",
       "      <th>Reward Label</th>\n",
       "    </tr>\n",
       "  </thead>\n",
       "  <tbody>\n",
       "    <tr>\n",
       "      <th>0</th>\n",
       "      <td>15</td>\n",
       "      <td>8</td>\n",
       "      <td>0</td>\n",
       "      <td>-1.0</td>\n",
       "      <td>Stick</td>\n",
       "      <td>Loss</td>\n",
       "    </tr>\n",
       "    <tr>\n",
       "      <th>1</th>\n",
       "      <td>15</td>\n",
       "      <td>5</td>\n",
       "      <td>0</td>\n",
       "      <td>1.0</td>\n",
       "      <td>Stick</td>\n",
       "      <td>Win</td>\n",
       "    </tr>\n",
       "    <tr>\n",
       "      <th>2</th>\n",
       "      <td>7</td>\n",
       "      <td>2</td>\n",
       "      <td>0</td>\n",
       "      <td>1.0</td>\n",
       "      <td>Stick</td>\n",
       "      <td>Win</td>\n",
       "    </tr>\n",
       "    <tr>\n",
       "      <th>3</th>\n",
       "      <td>17</td>\n",
       "      <td>5</td>\n",
       "      <td>0</td>\n",
       "      <td>-1.0</td>\n",
       "      <td>Stick</td>\n",
       "      <td>Loss</td>\n",
       "    </tr>\n",
       "    <tr>\n",
       "      <th>4</th>\n",
       "      <td>14</td>\n",
       "      <td>1</td>\n",
       "      <td>0</td>\n",
       "      <td>-1.0</td>\n",
       "      <td>Stick</td>\n",
       "      <td>Loss</td>\n",
       "    </tr>\n",
       "    <tr>\n",
       "      <th>...</th>\n",
       "      <td>...</td>\n",
       "      <td>...</td>\n",
       "      <td>...</td>\n",
       "      <td>...</td>\n",
       "      <td>...</td>\n",
       "      <td>...</td>\n",
       "    </tr>\n",
       "    <tr>\n",
       "      <th>3600</th>\n",
       "      <td>4</td>\n",
       "      <td>3</td>\n",
       "      <td>1</td>\n",
       "      <td>0.0</td>\n",
       "      <td>Hit</td>\n",
       "      <td>Draw</td>\n",
       "    </tr>\n",
       "    <tr>\n",
       "      <th>3774</th>\n",
       "      <td>5</td>\n",
       "      <td>1</td>\n",
       "      <td>0</td>\n",
       "      <td>1.0</td>\n",
       "      <td>Stick</td>\n",
       "      <td>Win</td>\n",
       "    </tr>\n",
       "    <tr>\n",
       "      <th>4281</th>\n",
       "      <td>4</td>\n",
       "      <td>8</td>\n",
       "      <td>1</td>\n",
       "      <td>0.0</td>\n",
       "      <td>Hit</td>\n",
       "      <td>Draw</td>\n",
       "    </tr>\n",
       "    <tr>\n",
       "      <th>4317</th>\n",
       "      <td>4</td>\n",
       "      <td>1</td>\n",
       "      <td>0</td>\n",
       "      <td>-1.0</td>\n",
       "      <td>Stick</td>\n",
       "      <td>Loss</td>\n",
       "    </tr>\n",
       "    <tr>\n",
       "      <th>4712</th>\n",
       "      <td>5</td>\n",
       "      <td>9</td>\n",
       "      <td>1</td>\n",
       "      <td>0.0</td>\n",
       "      <td>Hit</td>\n",
       "      <td>Draw</td>\n",
       "    </tr>\n",
       "  </tbody>\n",
       "</table>\n",
       "<p>180 rows × 6 columns</p>\n",
       "</div>"
      ],
      "text/plain": [
       "     Agent Sum Dealer Card Agent Action  Agent Reward Action Label  \\\n",
       "0           15           8            0          -1.0        Stick   \n",
       "1           15           5            0           1.0        Stick   \n",
       "2            7           2            0           1.0        Stick   \n",
       "3           17           5            0          -1.0        Stick   \n",
       "4           14           1            0          -1.0        Stick   \n",
       "...        ...         ...          ...           ...          ...   \n",
       "3600         4           3            1           0.0          Hit   \n",
       "3774         5           1            0           1.0        Stick   \n",
       "4281         4           8            1           0.0          Hit   \n",
       "4317         4           1            0          -1.0        Stick   \n",
       "4712         5           9            1           0.0          Hit   \n",
       "\n",
       "     Reward Label  \n",
       "0            Loss  \n",
       "1             Win  \n",
       "2             Win  \n",
       "3            Loss  \n",
       "4            Loss  \n",
       "...           ...  \n",
       "3600         Draw  \n",
       "3774          Win  \n",
       "4281         Draw  \n",
       "4317         Loss  \n",
       "4712         Draw  \n",
       "\n",
       "[180 rows x 6 columns]"
      ]
     },
     "execution_count": 64,
     "metadata": {},
     "output_type": "execute_result"
    }
   ],
   "source": [
    "df[\"Action Label\"] = df[\"Agent Action\"].map({0: \"Stick\", 1: \"Hit\"})\n",
    "df[\"Reward Label\"] = df[\"Agent Reward\"].map({-1: \"Loss\", 0: \"Draw\", 1: \"Win\", 1.5: \"Win\"})\n",
    "\n",
    "df_test_results = df.drop_duplicates(subset=[\"Agent Sum\", \"Dealer Card\"])\n",
    "df_test_results.to_csv(\"Model_500_Test_Results\", sep = ',')\n",
    "df_test_results"
   ]
  },
  {
   "cell_type": "markdown",
   "metadata": {},
   "source": [
    "**Winning Percentages**"
   ]
  },
  {
   "cell_type": "code",
   "execution_count": 65,
   "metadata": {},
   "outputs": [
    {
     "data": {
      "text/html": [
       "<div>\n",
       "<style scoped>\n",
       "    .dataframe tbody tr th:only-of-type {\n",
       "        vertical-align: middle;\n",
       "    }\n",
       "\n",
       "    .dataframe tbody tr th {\n",
       "        vertical-align: top;\n",
       "    }\n",
       "\n",
       "    .dataframe thead th {\n",
       "        text-align: right;\n",
       "    }\n",
       "</style>\n",
       "<table border=\"1\" class=\"dataframe\">\n",
       "  <thead>\n",
       "    <tr style=\"text-align: right;\">\n",
       "      <th></th>\n",
       "      <th>Agent Win Percentage</th>\n",
       "      <th>Dealer Win Percentage</th>\n",
       "      <th>Draw Percentage</th>\n",
       "    </tr>\n",
       "  </thead>\n",
       "  <tbody>\n",
       "    <tr>\n",
       "      <th>0</th>\n",
       "      <td>31.666667</td>\n",
       "      <td>40.555556</td>\n",
       "      <td>27.777778</td>\n",
       "    </tr>\n",
       "  </tbody>\n",
       "</table>\n",
       "</div>"
      ],
      "text/plain": [
       "   Agent Win Percentage  Dealer Win Percentage  Draw Percentage\n",
       "0             31.666667              40.555556        27.777778"
      ]
     },
     "execution_count": 65,
     "metadata": {},
     "output_type": "execute_result"
    }
   ],
   "source": [
    "agent_wins = df_test_results[\"Reward Label\"].value_counts()[\"Win\"]\n",
    "dealer_wins = df_test_results[\"Reward Label\"].value_counts()[\"Loss\"]\n",
    "draw_count = df_test_results[\"Reward Label\"].value_counts()[\"Draw\"]\n",
    "total_games = agent_wins + dealer_wins + draw_count\n",
    "\n",
    "agent_win_prct = (agent_wins / total_games) * 100\n",
    "dealer_win_prct = (dealer_wins / total_games) * 100 \n",
    "draw_prct = (draw_count / total_games) * 100\n",
    "\n",
    "df_win_prct = pd.DataFrame(columns=[\"Agent Win Percentage\", \"Dealer Win Percentage\", \"Draw Percentage\"])\n",
    "new_row = {'Agent Win Percentage': agent_win_prct, 'Dealer Win Percentage': dealer_win_prct, 'Draw Percentage': draw_prct}\n",
    "df_win_prct = pd.concat([df_win_prct, pd.DataFrame([new_row])], ignore_index=True)\n",
    "df_win_prct\n"
   ]
  },
  {
   "cell_type": "markdown",
   "metadata": {},
   "source": [
    "Saving Winning Percentages"
   ]
  },
  {
   "cell_type": "code",
   "execution_count": 66,
   "metadata": {},
   "outputs": [],
   "source": [
    "#don't forget to change name when saving\n",
    "df_win_prct.to_csv(\"Model_500_Win_Percentage\", sep = ',')"
   ]
  },
  {
   "cell_type": "markdown",
   "metadata": {},
   "source": [
    "**Scatter Plot of Policy**"
   ]
  },
  {
   "cell_type": "code",
   "execution_count": 67,
   "metadata": {},
   "outputs": [
    {
     "data": {
      "image/png": "[encoded data removed]",
      "text/plain": [
       "<Figure size 1600x900 with 2 Axes>"
      ]
     },
     "metadata": {},
     "output_type": "display_data"
    }
   ],
   "source": [
    "x = df_test_results[\"Agent Sum\"]\n",
    "y = df_test_results[\"Dealer Card\"]\n",
    "z = df_test_results[\"Agent Action\"]\n",
    "c = df_test_results[\"Agent Reward\"]\n",
    "\n",
    "fig = plt.figure(figsize = (16, 9))\n",
    "ax = plt.axes(projection =\"3d\")\n",
    "\n",
    "sctt = ax.scatter3D(x, y, z, alpha = 0.8, c = c)\n",
    "\n",
    "ax.set_xlabel(\"Agent Sum\", fontweight ='bold') \n",
    "ax.set_ylabel(\"Dealer Card\", fontweight ='bold') \n",
    "ax.set_zlabel(\"Agent Action\", fontweight ='bold')\n",
    "fig.colorbar(sctt, ax = ax, shrink = 0.5, aspect = 5)\n",
    "\n",
    "plt.show()"
   ]
  },
  {
   "cell_type": "markdown",
   "metadata": {},
   "source": [
    "**Heat Map of Policy**"
   ]
  },
  {
   "cell_type": "code",
   "execution_count": 68,
   "metadata": {},
   "outputs": [
    {
     "data": {
      "application/vnd.plotly.v1+json": {
       "config": {
        "plotlyServerURL": "https://plot.ly"
       },
       "data": [
        {
         "colorbar": {
          "title": {
           "text": "Action"
          }
         },
         "colorscale": [
          [
           0,
           "#440154"
          ],
          [
           0.1111111111111111,
           "#482878"
          ],
          [
           0.2222222222222222,
           "#3e4989"
          ],
          [
           0.3333333333333333,
           "#31688e"
          ],
          [
           0.4444444444444444,
           "#26828e"
          ],
          [
           0.5555555555555556,
           "#1f9e89"
          ],
          [
           0.6666666666666666,
           "#35b779"
          ],
          [
           0.7777777777777778,
           "#6ece58"
          ],
          [
           0.8888888888888888,
           "#b5de2b"
          ],
          [
           1,
           "#fde725"
          ]
         ],
         "hoverongaps": true,
         "opacity": 0.75,
         "type": "heatmap",
         "x": [
          15,
          15,
          7,
          17,
          14,
          18,
          13,
          17,
          18,
          13,
          19,
          9,
          17,
          15,
          12,
          12,
          11,
          17,
          16,
          21,
          20,
          8,
          10,
          14,
          12,
          5,
          13,
          18,
          20,
          13,
          17,
          10,
          17,
          9,
          19,
          19,
          20,
          14,
          6,
          16,
          15,
          6,
          12,
          9,
          7,
          10,
          15,
          19,
          17,
          20,
          11,
          21,
          14,
          16,
          18,
          21,
          14,
          15,
          10,
          5,
          16,
          11,
          4,
          13,
          20,
          17,
          21,
          7,
          17,
          14,
          10,
          8,
          21,
          18,
          12,
          14,
          6,
          10,
          20,
          9,
          16,
          15,
          9,
          19,
          17,
          13,
          8,
          12,
          20,
          20,
          18,
          18,
          13,
          15,
          16,
          8,
          21,
          8,
          12,
          7,
          15,
          11,
          13,
          16,
          5,
          13,
          12,
          20,
          21,
          13,
          7,
          10,
          10,
          11,
          20,
          14,
          4,
          19,
          18,
          15,
          7,
          18,
          5,
          16,
          14,
          8,
          8,
          12,
          12,
          16,
          14,
          16,
          8,
          21,
          8,
          11,
          8,
          6,
          9,
          5,
          19,
          7,
          7,
          19,
          9,
          19,
          6,
          9,
          19,
          6,
          11,
          9,
          7,
          21,
          6,
          18,
          9,
          4,
          10,
          11,
          11,
          10,
          21,
          6,
          5,
          4,
          5,
          11,
          6,
          4,
          6,
          5,
          7,
          4,
          4,
          4,
          5,
          4,
          4,
          5
         ],
         "y": [
          8,
          5,
          2,
          5,
          1,
          7,
          5,
          10,
          9,
          3,
          10,
          2,
          1,
          7,
          9,
          10,
          2,
          8,
          1,
          9,
          7,
          4,
          9,
          9,
          3,
          3,
          10,
          10,
          10,
          7,
          2,
          10,
          9,
          10,
          1,
          9,
          4,
          7,
          10,
          10,
          1,
          5,
          4,
          9,
          10,
          5,
          10,
          3,
          4,
          6,
          10,
          3,
          2,
          5,
          1,
          5,
          5,
          4,
          1,
          10,
          4,
          4,
          5,
          2,
          3,
          6,
          8,
          7,
          7,
          10,
          6,
          2,
          10,
          8,
          6,
          4,
          8,
          8,
          8,
          4,
          9,
          3,
          7,
          7,
          3,
          1,
          1,
          7,
          9,
          5,
          4,
          6,
          8,
          2,
          3,
          10,
          2,
          5,
          8,
          9,
          9,
          8,
          9,
          7,
          2,
          4,
          5,
          2,
          4,
          6,
          3,
          4,
          7,
          9,
          1,
          3,
          2,
          4,
          2,
          6,
          5,
          3,
          7,
          8,
          8,
          8,
          7,
          2,
          1,
          6,
          6,
          2,
          3,
          6,
          6,
          1,
          9,
          6,
          6,
          5,
          2,
          8,
          1,
          6,
          8,
          8,
          1,
          5,
          5,
          4,
          7,
          3,
          6,
          1,
          2,
          5,
          1,
          4,
          3,
          6,
          5,
          2,
          7,
          9,
          4,
          6,
          8,
          3,
          7,
          10,
          3,
          6,
          4,
          7,
          9,
          3,
          1,
          8,
          1,
          9
         ],
         "z": [
          0,
          0,
          0,
          0,
          0,
          0,
          0,
          0,
          0,
          0,
          0,
          0,
          0,
          0,
          1,
          1,
          0,
          0,
          0,
          0,
          0,
          0,
          1,
          0,
          0,
          0,
          1,
          0,
          0,
          0,
          0,
          1,
          0,
          1,
          0,
          0,
          0,
          0,
          1,
          0,
          0,
          1,
          0,
          1,
          1,
          0,
          0,
          0,
          0,
          0,
          1,
          0,
          0,
          0,
          0,
          0,
          0,
          0,
          0,
          1,
          0,
          0,
          1,
          0,
          0,
          0,
          0,
          1,
          0,
          0,
          0,
          0,
          0,
          0,
          0,
          0,
          1,
          1,
          0,
          0,
          0,
          0,
          1,
          0,
          0,
          0,
          0,
          0,
          0,
          0,
          0,
          0,
          0,
          0,
          0,
          1,
          0,
          0,
          0,
          1,
          0,
          1,
          0,
          0,
          0,
          0,
          0,
          0,
          0,
          0,
          0,
          0,
          0,
          1,
          0,
          0,
          0,
          0,
          0,
          0,
          1,
          0,
          1,
          0,
          0,
          1,
          1,
          0,
          0,
          0,
          0,
          0,
          0,
          0,
          1,
          0,
          1,
          1,
          0,
          1,
          0,
          1,
          0,
          0,
          1,
          0,
          0,
          0,
          0,
          1,
          0,
          0,
          1,
          0,
          0,
          0,
          0,
          1,
          0,
          0,
          0,
          0,
          0,
          1,
          1,
          1,
          1,
          0,
          1,
          1,
          0,
          1,
          0,
          1,
          1,
          1,
          0,
          1,
          0,
          1
         ]
        }
       ],
       "layout": {
        "template": {
         "data": {
          "bar": [
           {
            "error_x": {
             "color": "#2a3f5f"
            },
            "error_y": {
             "color": "#2a3f5f"
            },
            "marker": {
             "line": {
              "color": "#E5ECF6",
              "width": 0.5
             },
             "pattern": {
              "fillmode": "overlay",
              "size": 10,
              "solidity": 0.2
             }
            },
            "type": "bar"
           }
          ],
          "barpolar": [
           {
            "marker": {
             "line": {
              "color": "#E5ECF6",
              "width": 0.5
             },
             "pattern": {
              "fillmode": "overlay",
              "size": 10,
              "solidity": 0.2
             }
            },
            "type": "barpolar"
           }
          ],
          "carpet": [
           {
            "aaxis": {
             "endlinecolor": "#2a3f5f",
             "gridcolor": "white",
             "linecolor": "white",
             "minorgridcolor": "white",
             "startlinecolor": "#2a3f5f"
            },
            "baxis": {
             "endlinecolor": "#2a3f5f",
             "gridcolor": "white",
             "linecolor": "white",
             "minorgridcolor": "white",
             "startlinecolor": "#2a3f5f"
            },
            "type": "carpet"
           }
          ],
          "choropleth": [
           {
            "colorbar": {
             "outlinewidth": 0,
             "ticks": ""
            },
            "type": "choropleth"
           }
          ],
          "contour": [
           {
            "colorbar": {
             "outlinewidth": 0,
             "ticks": ""
            },
            "colorscale": [
             [
              0,
              "#0d0887"
             ],
             [
              0.1111111111111111,
              "#46039f"
             ],
             [
              0.2222222222222222,
              "#7201a8"
             ],
             [
              0.3333333333333333,
              "#9c179e"
             ],
             [
              0.4444444444444444,
              "#bd3786"
             ],
             [
              0.5555555555555556,
              "#d8576b"
             ],
             [
              0.6666666666666666,
              "#ed7953"
             ],
             [
              0.7777777777777778,
              "#fb9f3a"
             ],
             [
              0.8888888888888888,
              "#fdca26"
             ],
             [
              1,
              "#f0f921"
             ]
            ],
            "type": "contour"
           }
          ],
          "contourcarpet": [
           {
            "colorbar": {
             "outlinewidth": 0,
             "ticks": ""
            },
            "type": "contourcarpet"
           }
          ],
          "heatmap": [
           {
            "colorbar": {
             "outlinewidth": 0,
             "ticks": ""
            },
            "colorscale": [
             [
              0,
              "#0d0887"
             ],
             [
              0.1111111111111111,
              "#46039f"
             ],
             [
              0.2222222222222222,
              "#7201a8"
             ],
             [
              0.3333333333333333,
              "#9c179e"
             ],
             [
              0.4444444444444444,
              "#bd3786"
             ],
             [
              0.5555555555555556,
              "#d8576b"
             ],
             [
              0.6666666666666666,
              "#ed7953"
             ],
             [
              0.7777777777777778,
              "#fb9f3a"
             ],
             [
              0.8888888888888888,
              "#fdca26"
             ],
             [
              1,
              "#f0f921"
             ]
            ],
            "type": "heatmap"
           }
          ],
          "heatmapgl": [
           {
            "colorbar": {
             "outlinewidth": 0,
             "ticks": ""
            },
            "colorscale": [
             [
              0,
              "#0d0887"
             ],
             [
              0.1111111111111111,
              "#46039f"
             ],
             [
              0.2222222222222222,
              "#7201a8"
             ],
             [
              0.3333333333333333,
              "#9c179e"
             ],
             [
              0.4444444444444444,
              "#bd3786"
             ],
             [
              0.5555555555555556,
              "#d8576b"
             ],
             [
              0.6666666666666666,
              "#ed7953"
             ],
             [
              0.7777777777777778,
              "#fb9f3a"
             ],
             [
              0.8888888888888888,
              "#fdca26"
             ],
             [
              1,
              "#f0f921"
             ]
            ],
            "type": "heatmapgl"
           }
          ],
          "histogram": [
           {
            "marker": {
             "pattern": {
              "fillmode": "overlay",
              "size": 10,
              "solidity": 0.2
             }
            },
            "type": "histogram"
           }
          ],
          "histogram2d": [
           {
            "colorbar": {
             "outlinewidth": 0,
             "ticks": ""
            },
            "colorscale": [
             [
              0,
              "#0d0887"
             ],
             [
              0.1111111111111111,
              "#46039f"
             ],
             [
              0.2222222222222222,
              "#7201a8"
             ],
             [
              0.3333333333333333,
              "#9c179e"
             ],
             [
              0.4444444444444444,
              "#bd3786"
             ],
             [
              0.5555555555555556,
              "#d8576b"
             ],
             [
              0.6666666666666666,
              "#ed7953"
             ],
             [
              0.7777777777777778,
              "#fb9f3a"
             ],
             [
              0.8888888888888888,
              "#fdca26"
             ],
             [
              1,
              "#f0f921"
             ]
            ],
            "type": "histogram2d"
           }
          ],
          "histogram2dcontour": [
           {
            "colorbar": {
             "outlinewidth": 0,
             "ticks": ""
            },
            "colorscale": [
             [
              0,
              "#0d0887"
             ],
             [
              0.1111111111111111,
              "#46039f"
             ],
             [
              0.2222222222222222,
              "#7201a8"
             ],
             [
              0.3333333333333333,
              "#9c179e"
             ],
             [
              0.4444444444444444,
              "#bd3786"
             ],
             [
              0.5555555555555556,
              "#d8576b"
             ],
             [
              0.6666666666666666,
              "#ed7953"
             ],
             [
              0.7777777777777778,
              "#fb9f3a"
             ],
             [
              0.8888888888888888,
              "#fdca26"
             ],
             [
              1,
              "#f0f921"
             ]
            ],
            "type": "histogram2dcontour"
           }
          ],
          "mesh3d": [
           {
            "colorbar": {
             "outlinewidth": 0,
             "ticks": ""
            },
            "type": "mesh3d"
           }
          ],
          "parcoords": [
           {
            "line": {
             "colorbar": {
              "outlinewidth": 0,
              "ticks": ""
             }
            },
            "type": "parcoords"
           }
          ],
          "pie": [
           {
            "automargin": true,
            "type": "pie"
           }
          ],
          "scatter": [
           {
            "fillpattern": {
             "fillmode": "overlay",
             "size": 10,
             "solidity": 0.2
            },
            "type": "scatter"
           }
          ],
          "scatter3d": [
           {
            "line": {
             "colorbar": {
              "outlinewidth": 0,
              "ticks": ""
             }
            },
            "marker": {
             "colorbar": {
              "outlinewidth": 0,
              "ticks": ""
             }
            },
            "type": "scatter3d"
           }
          ],
          "scattercarpet": [
           {
            "marker": {
             "colorbar": {
              "outlinewidth": 0,
              "ticks": ""
             }
            },
            "type": "scattercarpet"
           }
          ],
          "scattergeo": [
           {
            "marker": {
             "colorbar": {
              "outlinewidth": 0,
              "ticks": ""
             }
            },
            "type": "scattergeo"
           }
          ],
          "scattergl": [
           {
            "marker": {
             "colorbar": {
              "outlinewidth": 0,
              "ticks": ""
             }
            },
            "type": "scattergl"
           }
          ],
          "scattermapbox": [
           {
            "marker": {
             "colorbar": {
              "outlinewidth": 0,
              "ticks": ""
             }
            },
            "type": "scattermapbox"
           }
          ],
          "scatterpolar": [
           {
            "marker": {
             "colorbar": {
              "outlinewidth": 0,
              "ticks": ""
             }
            },
            "type": "scatterpolar"
           }
          ],
          "scatterpolargl": [
           {
            "marker": {
             "colorbar": {
              "outlinewidth": 0,
              "ticks": ""
             }
            },
            "type": "scatterpolargl"
           }
          ],
          "scatterternary": [
           {
            "marker": {
             "colorbar": {
              "outlinewidth": 0,
              "ticks": ""
             }
            },
            "type": "scatterternary"
           }
          ],
          "surface": [
           {
            "colorbar": {
             "outlinewidth": 0,
             "ticks": ""
            },
            "colorscale": [
             [
              0,
              "#0d0887"
             ],
             [
              0.1111111111111111,
              "#46039f"
             ],
             [
              0.2222222222222222,
              "#7201a8"
             ],
             [
              0.3333333333333333,
              "#9c179e"
             ],
             [
              0.4444444444444444,
              "#bd3786"
             ],
             [
              0.5555555555555556,
              "#d8576b"
             ],
             [
              0.6666666666666666,
              "#ed7953"
             ],
             [
              0.7777777777777778,
              "#fb9f3a"
             ],
             [
              0.8888888888888888,
              "#fdca26"
             ],
             [
              1,
              "#f0f921"
             ]
            ],
            "type": "surface"
           }
          ],
          "table": [
           {
            "cells": {
             "fill": {
              "color": "#EBF0F8"
             },
             "line": {
              "color": "white"
             }
            },
            "header": {
             "fill": {
              "color": "#C8D4E3"
             },
             "line": {
              "color": "white"
             }
            },
            "type": "table"
           }
          ]
         },
         "layout": {
          "annotationdefaults": {
           "arrowcolor": "#2a3f5f",
           "arrowhead": 0,
           "arrowwidth": 1
          },
          "autotypenumbers": "strict",
          "coloraxis": {
           "colorbar": {
            "outlinewidth": 0,
            "ticks": ""
           }
          },
          "colorscale": {
           "diverging": [
            [
             0,
             "#8e0152"
            ],
            [
             0.1,
             "#c51b7d"
            ],
            [
             0.2,
             "#de77ae"
            ],
            [
             0.3,
             "#f1b6da"
            ],
            [
             0.4,
             "#fde0ef"
            ],
            [
             0.5,
             "#f7f7f7"
            ],
            [
             0.6,
             "#e6f5d0"
            ],
            [
             0.7,
             "#b8e186"
            ],
            [
             0.8,
             "#7fbc41"
            ],
            [
             0.9,
             "#4d9221"
            ],
            [
             1,
             "#276419"
            ]
           ],
           "sequential": [
            [
             0,
             "#0d0887"
            ],
            [
             0.1111111111111111,
             "#46039f"
            ],
            [
             0.2222222222222222,
             "#7201a8"
            ],
            [
             0.3333333333333333,
             "#9c179e"
            ],
            [
             0.4444444444444444,
             "#bd3786"
            ],
            [
             0.5555555555555556,
             "#d8576b"
            ],
            [
             0.6666666666666666,
             "#ed7953"
            ],
            [
             0.7777777777777778,
             "#fb9f3a"
            ],
            [
             0.8888888888888888,
             "#fdca26"
            ],
            [
             1,
             "#f0f921"
            ]
           ],
           "sequentialminus": [
            [
             0,
             "#0d0887"
            ],
            [
             0.1111111111111111,
             "#46039f"
            ],
            [
             0.2222222222222222,
             "#7201a8"
            ],
            [
             0.3333333333333333,
             "#9c179e"
            ],
            [
             0.4444444444444444,
             "#bd3786"
            ],
            [
             0.5555555555555556,
             "#d8576b"
            ],
            [
             0.6666666666666666,
             "#ed7953"
            ],
            [
             0.7777777777777778,
             "#fb9f3a"
            ],
            [
             0.8888888888888888,
             "#fdca26"
            ],
            [
             1,
             "#f0f921"
            ]
           ]
          },
          "colorway": [
           "#636efa",
           "#EF553B",
           "#00cc96",
           "#ab63fa",
           "#FFA15A",
           "#19d3f3",
           "#FF6692",
           "#B6E880",
           "#FF97FF",
           "#FECB52"
          ],
          "font": {
           "color": "#2a3f5f"
          },
          "geo": {
           "bgcolor": "white",
           "lakecolor": "white",
           "landcolor": "#E5ECF6",
           "showlakes": true,
           "showland": true,
           "subunitcolor": "white"
          },
          "hoverlabel": {
           "align": "left"
          },
          "hovermode": "closest",
          "mapbox": {
           "style": "light"
          },
          "paper_bgcolor": "white",
          "plot_bgcolor": "#E5ECF6",
          "polar": {
           "angularaxis": {
            "gridcolor": "white",
            "linecolor": "white",
            "ticks": ""
           },
           "bgcolor": "#E5ECF6",
           "radialaxis": {
            "gridcolor": "white",
            "linecolor": "white",
            "ticks": ""
           }
          },
          "scene": {
           "xaxis": {
            "backgroundcolor": "#E5ECF6",
            "gridcolor": "white",
            "gridwidth": 2,
            "linecolor": "white",
            "showbackground": true,
            "ticks": "",
            "zerolinecolor": "white"
           },
           "yaxis": {
            "backgroundcolor": "#E5ECF6",
            "gridcolor": "white",
            "gridwidth": 2,
            "linecolor": "white",
            "showbackground": true,
            "ticks": "",
            "zerolinecolor": "white"
           },
           "zaxis": {
            "backgroundcolor": "#E5ECF6",
            "gridcolor": "white",
            "gridwidth": 2,
            "linecolor": "white",
            "showbackground": true,
            "ticks": "",
            "zerolinecolor": "white"
           }
          },
          "shapedefaults": {
           "line": {
            "color": "#2a3f5f"
           }
          },
          "ternary": {
           "aaxis": {
            "gridcolor": "white",
            "linecolor": "white",
            "ticks": ""
           },
           "baxis": {
            "gridcolor": "white",
            "linecolor": "white",
            "ticks": ""
           },
           "bgcolor": "#E5ECF6",
           "caxis": {
            "gridcolor": "white",
            "linecolor": "white",
            "ticks": ""
           }
          },
          "title": {
           "x": 0.05
          },
          "xaxis": {
           "automargin": true,
           "gridcolor": "white",
           "linecolor": "white",
           "ticks": "",
           "title": {
            "standoff": 15
           },
           "zerolinecolor": "white",
           "zerolinewidth": 2
          },
          "yaxis": {
           "automargin": true,
           "gridcolor": "white",
           "linecolor": "white",
           "ticks": "",
           "title": {
            "standoff": 15
           },
           "zerolinecolor": "white",
           "zerolinewidth": 2
          }
         }
        },
        "xaxis": {
         "dtick": 1,
         "showgrid": true,
         "side": "bottom",
         "title": {
          "text": "Agent Sum"
         }
        },
        "yaxis": {
         "dtick": 1,
         "showgrid": true,
         "title": {
          "text": "Dealer Card"
         }
        }
       }
      }
     },
     "metadata": {},
     "output_type": "display_data"
    }
   ],
   "source": [
    "fig = go.Figure(data=go.Heatmap(\n",
    "    x=df_test_results[\"Agent Sum\"],\n",
    "    y=df_test_results[\"Dealer Card\"],\n",
    "    z=df_test_results[\"Agent Action\"],\n",
    "    colorscale=\"Viridis\",\n",
    "    colorbar=dict(title=\"Action\"),\n",
    "    hoverongaps=True,\n",
    "    opacity = 0.75\n",
    "\n",
    "))\n",
    "\n",
    "fig.update_layout(\n",
    "    xaxis=dict(title=\"Agent Sum\", showgrid=True, dtick=1),\n",
    "    yaxis=dict(title=\"Dealer Card\", showgrid=True, dtick=1),\n",
    "    xaxis_side=\"bottom\"\n",
    ")\n",
    "\n",
    "fig.show()"
   ]
  },
  {
   "cell_type": "code",
   "execution_count": null,
   "metadata": {},
   "outputs": [],
   "source": []
  }
 ],
 "metadata": {
  "kernelspec": {
   "display_name": "Python 3",
   "language": "python",
   "name": "python3"
  },
  "language_info": {
   "codemirror_mode": {
    "name": "ipython",
    "version": 3
   },
   "file_extension": ".py",
   "mimetype": "text/x-python",
   "name": "python",
   "nbconvert_exporter": "python",
   "pygments_lexer": "ipython3",
   "version": "3.11.5"
  }
 },
 "nbformat": 4,
 "nbformat_minor": 2
}
